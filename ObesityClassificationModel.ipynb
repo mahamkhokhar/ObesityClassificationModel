{
 "cells": [
  {
   "cell_type": "code",
   "execution_count": 3,
   "id": "100a22df",
   "metadata": {},
   "outputs": [],
   "source": [
    "%matplotlib inline\n",
    "import pandas as pd\n",
    "import numpy as np\n",
    "import matplotlib.pyplot as plt"
   ]
  },
  {
   "cell_type": "code",
   "execution_count": 4,
   "id": "ad58b84e",
   "metadata": {},
   "outputs": [],
   "source": [
    "data = pd.read_csv(\"ObesityDataSet_raw_and_data_sinthetic.csv\")"
   ]
  },
  {
   "cell_type": "markdown",
   "id": "def2a8ed",
   "metadata": {},
   "source": [
    "## Attribute full names\n",
    "\n",
    "* Frequent consumption of high caloric food (FAVC)\n",
    "* Frequency of consumption of vegetables(FCVC)\n",
    "* Number of main meals (NCP)\n",
    "* Consumption of food between meals (CAEC)\n",
    "* Consumption of water daily (CH2O)\n",
    "* Calories consumption monitoring (SCC)\n",
    "* Physical activity frequency (FAF)\n",
    "* Time using technology devices (TUE)\n",
    "* Consumption of alcohol (CALC)\n",
    "* Transportation used (MTRANS)"
   ]
  },
  {
   "cell_type": "code",
   "execution_count": 46,
   "id": "fd6d82b1",
   "metadata": {},
   "outputs": [
    {
     "name": "stdout",
     "output_type": "stream",
     "text": [
      "Rows:  2111\n",
      "Columns:  17\n"
     ]
    }
   ],
   "source": [
    "columns = len(data.columns)\n",
    "rows = len(data.index)\n",
    "print(\"Rows: \", rows)  \n",
    "print(\"Columns: \", columns)  "
   ]
  },
  {
   "cell_type": "code",
   "execution_count": 6,
   "id": "3d8873f1",
   "metadata": {},
   "outputs": [
    {
     "data": {
      "text/html": [
       "<div>\n",
       "<style scoped>\n",
       "    .dataframe tbody tr th:only-of-type {\n",
       "        vertical-align: middle;\n",
       "    }\n",
       "\n",
       "    .dataframe tbody tr th {\n",
       "        vertical-align: top;\n",
       "    }\n",
       "\n",
       "    .dataframe thead th {\n",
       "        text-align: right;\n",
       "    }\n",
       "</style>\n",
       "<table border=\"1\" class=\"dataframe\">\n",
       "  <thead>\n",
       "    <tr style=\"text-align: right;\">\n",
       "      <th></th>\n",
       "      <th>Gender</th>\n",
       "      <th>Age</th>\n",
       "      <th>Height</th>\n",
       "      <th>Weight</th>\n",
       "      <th>family_history_with_overweight</th>\n",
       "      <th>FAVC</th>\n",
       "      <th>FCVC</th>\n",
       "      <th>NCP</th>\n",
       "      <th>CAEC</th>\n",
       "      <th>SMOKE</th>\n",
       "      <th>CH2O</th>\n",
       "      <th>SCC</th>\n",
       "      <th>FAF</th>\n",
       "      <th>TUE</th>\n",
       "      <th>CALC</th>\n",
       "      <th>MTRANS</th>\n",
       "      <th>NObeyesdad</th>\n",
       "    </tr>\n",
       "  </thead>\n",
       "  <tbody>\n",
       "    <tr>\n",
       "      <th>0</th>\n",
       "      <td>Female</td>\n",
       "      <td>21.0</td>\n",
       "      <td>1.62</td>\n",
       "      <td>64.0</td>\n",
       "      <td>yes</td>\n",
       "      <td>no</td>\n",
       "      <td>2.0</td>\n",
       "      <td>3.0</td>\n",
       "      <td>Sometimes</td>\n",
       "      <td>no</td>\n",
       "      <td>2.0</td>\n",
       "      <td>no</td>\n",
       "      <td>0.0</td>\n",
       "      <td>1.0</td>\n",
       "      <td>no</td>\n",
       "      <td>Public_Transportation</td>\n",
       "      <td>Normal_Weight</td>\n",
       "    </tr>\n",
       "    <tr>\n",
       "      <th>1</th>\n",
       "      <td>Female</td>\n",
       "      <td>21.0</td>\n",
       "      <td>1.52</td>\n",
       "      <td>56.0</td>\n",
       "      <td>yes</td>\n",
       "      <td>no</td>\n",
       "      <td>3.0</td>\n",
       "      <td>3.0</td>\n",
       "      <td>Sometimes</td>\n",
       "      <td>yes</td>\n",
       "      <td>3.0</td>\n",
       "      <td>yes</td>\n",
       "      <td>3.0</td>\n",
       "      <td>0.0</td>\n",
       "      <td>Sometimes</td>\n",
       "      <td>Public_Transportation</td>\n",
       "      <td>Normal_Weight</td>\n",
       "    </tr>\n",
       "    <tr>\n",
       "      <th>2</th>\n",
       "      <td>Male</td>\n",
       "      <td>23.0</td>\n",
       "      <td>1.80</td>\n",
       "      <td>77.0</td>\n",
       "      <td>yes</td>\n",
       "      <td>no</td>\n",
       "      <td>2.0</td>\n",
       "      <td>3.0</td>\n",
       "      <td>Sometimes</td>\n",
       "      <td>no</td>\n",
       "      <td>2.0</td>\n",
       "      <td>no</td>\n",
       "      <td>2.0</td>\n",
       "      <td>1.0</td>\n",
       "      <td>Frequently</td>\n",
       "      <td>Public_Transportation</td>\n",
       "      <td>Normal_Weight</td>\n",
       "    </tr>\n",
       "    <tr>\n",
       "      <th>3</th>\n",
       "      <td>Male</td>\n",
       "      <td>27.0</td>\n",
       "      <td>1.80</td>\n",
       "      <td>87.0</td>\n",
       "      <td>no</td>\n",
       "      <td>no</td>\n",
       "      <td>3.0</td>\n",
       "      <td>3.0</td>\n",
       "      <td>Sometimes</td>\n",
       "      <td>no</td>\n",
       "      <td>2.0</td>\n",
       "      <td>no</td>\n",
       "      <td>2.0</td>\n",
       "      <td>0.0</td>\n",
       "      <td>Frequently</td>\n",
       "      <td>Walking</td>\n",
       "      <td>Overweight_Level_I</td>\n",
       "    </tr>\n",
       "    <tr>\n",
       "      <th>4</th>\n",
       "      <td>Male</td>\n",
       "      <td>22.0</td>\n",
       "      <td>1.78</td>\n",
       "      <td>89.8</td>\n",
       "      <td>no</td>\n",
       "      <td>no</td>\n",
       "      <td>2.0</td>\n",
       "      <td>1.0</td>\n",
       "      <td>Sometimes</td>\n",
       "      <td>no</td>\n",
       "      <td>2.0</td>\n",
       "      <td>no</td>\n",
       "      <td>0.0</td>\n",
       "      <td>0.0</td>\n",
       "      <td>Sometimes</td>\n",
       "      <td>Public_Transportation</td>\n",
       "      <td>Overweight_Level_II</td>\n",
       "    </tr>\n",
       "  </tbody>\n",
       "</table>\n",
       "</div>"
      ],
      "text/plain": [
       "   Gender   Age  Height  Weight family_history_with_overweight FAVC  FCVC  \\\n",
       "0  Female  21.0    1.62    64.0                            yes   no   2.0   \n",
       "1  Female  21.0    1.52    56.0                            yes   no   3.0   \n",
       "2    Male  23.0    1.80    77.0                            yes   no   2.0   \n",
       "3    Male  27.0    1.80    87.0                             no   no   3.0   \n",
       "4    Male  22.0    1.78    89.8                             no   no   2.0   \n",
       "\n",
       "   NCP       CAEC SMOKE  CH2O  SCC  FAF  TUE        CALC  \\\n",
       "0  3.0  Sometimes    no   2.0   no  0.0  1.0          no   \n",
       "1  3.0  Sometimes   yes   3.0  yes  3.0  0.0   Sometimes   \n",
       "2  3.0  Sometimes    no   2.0   no  2.0  1.0  Frequently   \n",
       "3  3.0  Sometimes    no   2.0   no  2.0  0.0  Frequently   \n",
       "4  1.0  Sometimes    no   2.0   no  0.0  0.0   Sometimes   \n",
       "\n",
       "                  MTRANS           NObeyesdad  \n",
       "0  Public_Transportation        Normal_Weight  \n",
       "1  Public_Transportation        Normal_Weight  \n",
       "2  Public_Transportation        Normal_Weight  \n",
       "3                Walking   Overweight_Level_I  \n",
       "4  Public_Transportation  Overweight_Level_II  "
      ]
     },
     "execution_count": 6,
     "metadata": {},
     "output_type": "execute_result"
    }
   ],
   "source": [
    "data.head()"
   ]
  },
  {
   "cell_type": "code",
   "execution_count": 7,
   "id": "630b036e",
   "metadata": {},
   "outputs": [
    {
     "data": {
      "text/plain": [
       "40.27131333121615"
      ]
     },
     "execution_count": 7,
     "metadata": {},
     "output_type": "execute_result"
    }
   ],
   "source": [
    "data[\"Age\"].var()"
   ]
  },
  {
   "cell_type": "code",
   "execution_count": 8,
   "id": "e44c0578",
   "metadata": {},
   "outputs": [
    {
     "data": {
      "text/plain": [
       "Gender                            0\n",
       "Age                               0\n",
       "Height                            0\n",
       "Weight                            0\n",
       "family_history_with_overweight    0\n",
       "FAVC                              0\n",
       "FCVC                              0\n",
       "NCP                               0\n",
       "CAEC                              0\n",
       "SMOKE                             0\n",
       "CH2O                              0\n",
       "SCC                               0\n",
       "FAF                               0\n",
       "TUE                               0\n",
       "CALC                              0\n",
       "MTRANS                            0\n",
       "NObeyesdad                        0\n",
       "dtype: int64"
      ]
     },
     "execution_count": 8,
     "metadata": {},
     "output_type": "execute_result"
    }
   ],
   "source": [
    "data.isna().sum()\n"
   ]
  },
  {
   "cell_type": "code",
   "execution_count": 9,
   "id": "934a9fa9",
   "metadata": {},
   "outputs": [
    {
     "data": {
      "text/plain": [
       "Gender                             object\n",
       "Age                               float64\n",
       "Height                            float64\n",
       "Weight                            float64\n",
       "family_history_with_overweight     object\n",
       "FAVC                               object\n",
       "FCVC                              float64\n",
       "NCP                               float64\n",
       "CAEC                               object\n",
       "SMOKE                              object\n",
       "CH2O                              float64\n",
       "SCC                                object\n",
       "FAF                               float64\n",
       "TUE                               float64\n",
       "CALC                               object\n",
       "MTRANS                             object\n",
       "NObeyesdad                         object\n",
       "dtype: object"
      ]
     },
     "execution_count": 9,
     "metadata": {},
     "output_type": "execute_result"
    }
   ],
   "source": [
    "data.dtypes\n"
   ]
  },
  {
   "cell_type": "code",
   "execution_count": 10,
   "id": "f5284485",
   "metadata": {},
   "outputs": [
    {
     "data": {
      "text/plain": [
       "Gender                            FemaleFemaleMaleMaleMaleMaleFemaleMaleMaleMale...\n",
       "family_history_with_overweight    yesyesyesnononoyesnoyesyesyesyesnonoyesyesyesn...\n",
       "FAVC                              nononononoyesyesnoyesyesyesyesnoyesyesnoyesyes...\n",
       "CAEC                              SometimesSometimesSometimesSometimesSometimesS...\n",
       "SMOKE                             noyesnonononononononononononononononoyesnonoye...\n",
       "SCC                               noyesnononononononononoyesnononoyesnononononon...\n",
       "CALC                              noSometimesFrequentlyFrequentlySometimesSometi...\n",
       "MTRANS                            Public_TransportationPublic_TransportationPubl...\n",
       "NObeyesdad                        Normal_WeightNormal_WeightNormal_WeightOverwei...\n",
       "dtype: object"
      ]
     },
     "execution_count": 10,
     "metadata": {},
     "output_type": "execute_result"
    }
   ],
   "source": [
    "data.select_dtypes(include='object').sum()"
   ]
  },
  {
   "cell_type": "markdown",
   "id": "bf865e6e",
   "metadata": {},
   "source": [
    "### 9 features which are not in numeric form, in the following step I will convert them to numeric values.\n"
   ]
  },
  {
   "cell_type": "markdown",
   "id": "cc32b109",
   "metadata": {},
   "source": [
    "For gender we will assign `0 to Female` and `1 to Male`."
   ]
  },
  {
   "cell_type": "code",
   "execution_count": 11,
   "id": "8b091164",
   "metadata": {},
   "outputs": [
    {
     "data": {
      "text/plain": [
       "array(['Female', 'Male'], dtype=object)"
      ]
     },
     "execution_count": 11,
     "metadata": {},
     "output_type": "execute_result"
    }
   ],
   "source": [
    "data[\"Gender\"].unique()"
   ]
  },
  {
   "cell_type": "markdown",
   "id": "0bcbebe9",
   "metadata": {},
   "source": [
    "For all the following features we will be assingin `0 to yes` and `1 to no`:\n",
    "\n",
    "* family_history_with_overweight\n",
    "* FAVC\n",
    "* SMOKE\n",
    "* SCC"
   ]
  },
  {
   "cell_type": "code",
   "execution_count": 12,
   "id": "c31c354c",
   "metadata": {},
   "outputs": [
    {
     "data": {
      "text/plain": [
       "array(['yes', 'no'], dtype=object)"
      ]
     },
     "execution_count": 12,
     "metadata": {},
     "output_type": "execute_result"
    }
   ],
   "source": [
    " data[\"family_history_with_overweight\"].unique()"
   ]
  },
  {
   "cell_type": "code",
   "execution_count": 13,
   "id": "327b6d1a",
   "metadata": {},
   "outputs": [
    {
     "data": {
      "text/plain": [
       "array(['no', 'yes'], dtype=object)"
      ]
     },
     "execution_count": 13,
     "metadata": {},
     "output_type": "execute_result"
    }
   ],
   "source": [
    "data[\"FAVC\"].unique()"
   ]
  },
  {
   "cell_type": "code",
   "execution_count": 14,
   "id": "25648f96",
   "metadata": {},
   "outputs": [
    {
     "data": {
      "text/plain": [
       "array(['no', 'yes'], dtype=object)"
      ]
     },
     "execution_count": 14,
     "metadata": {},
     "output_type": "execute_result"
    }
   ],
   "source": [
    "data[\"SMOKE\"].unique()"
   ]
  },
  {
   "cell_type": "code",
   "execution_count": 15,
   "id": "1737623c",
   "metadata": {},
   "outputs": [
    {
     "data": {
      "text/plain": [
       "array(['no', 'yes'], dtype=object)"
      ]
     },
     "execution_count": 15,
     "metadata": {},
     "output_type": "execute_result"
    }
   ],
   "source": [
    "data[\"SCC\"].unique()"
   ]
  },
  {
   "cell_type": "markdown",
   "id": "4f5d5a69",
   "metadata": {},
   "source": [
    "For CAEC and CALC we will use the below conventions:\n",
    "\n",
    " `no` = 0, \n",
    " `Sometimes` = 1, \n",
    " `Frequently` = 2, \n",
    " `Always` = 3, "
   ]
  },
  {
   "cell_type": "code",
   "execution_count": 16,
   "id": "110e9fff",
   "metadata": {},
   "outputs": [
    {
     "data": {
      "text/plain": [
       "array(['Sometimes', 'Frequently', 'Always', 'no'], dtype=object)"
      ]
     },
     "execution_count": 16,
     "metadata": {},
     "output_type": "execute_result"
    }
   ],
   "source": [
    "data[\"CAEC\"].unique()"
   ]
  },
  {
   "cell_type": "code",
   "execution_count": 17,
   "id": "7169cf59",
   "metadata": {},
   "outputs": [
    {
     "data": {
      "text/plain": [
       "array(['no', 'Sometimes', 'Frequently', 'Always'], dtype=object)"
      ]
     },
     "execution_count": 17,
     "metadata": {},
     "output_type": "execute_result"
    }
   ],
   "source": [
    "data[\"CALC\"].unique()"
   ]
  },
  {
   "cell_type": "markdown",
   "id": "266fb801",
   "metadata": {},
   "source": [
    "For `MTRANS` we will use following scale to convert the categorical data to numerical data:\n",
    "\n",
    "`Walking` = 0, `Bike` = 1, `Public_Transportation` = 2, `Motorbike` = 3, `Automobile` = 4"
   ]
  },
  {
   "cell_type": "code",
   "execution_count": 18,
   "id": "f00e735a",
   "metadata": {},
   "outputs": [
    {
     "data": {
      "text/plain": [
       "array(['Public_Transportation', 'Walking', 'Automobile', 'Motorbike',\n",
       "       'Bike'], dtype=object)"
      ]
     },
     "execution_count": 18,
     "metadata": {},
     "output_type": "execute_result"
    }
   ],
   "source": [
    "data[\"MTRANS\"].unique()"
   ]
  },
  {
   "cell_type": "markdown",
   "id": "ef32262b",
   "metadata": {},
   "source": [
    "For `NObeyesdad` we will use following scale to convert the categorical data to numerical data:\n",
    "\n",
    "`Insufficient_Weight`= 0, `Normal_Weight`= 1, `Overweight_Level_I`= 2, `Overweight_Level_II`= 3, `Obesity_Type_I`= 4, `Obesity_Type_II`= 5, `Obesity_Type_III` = 6"
   ]
  },
  {
   "cell_type": "code",
   "execution_count": 19,
   "id": "4e71c112",
   "metadata": {},
   "outputs": [
    {
     "data": {
      "text/plain": [
       "array(['Normal_Weight', 'Overweight_Level_I', 'Overweight_Level_II',\n",
       "       'Obesity_Type_I', 'Insufficient_Weight', 'Obesity_Type_II',\n",
       "       'Obesity_Type_III'], dtype=object)"
      ]
     },
     "execution_count": 19,
     "metadata": {},
     "output_type": "execute_result"
    }
   ],
   "source": [
    "data[\"NObeyesdad\"].unique()"
   ]
  },
  {
   "cell_type": "markdown",
   "id": "b1a9dbe9",
   "metadata": {},
   "source": [
    "## Converting data type from Categorical and Binary to Numeric "
   ]
  },
  {
   "cell_type": "code",
   "execution_count": 20,
   "id": "4af15617",
   "metadata": {},
   "outputs": [],
   "source": [
    "data[\"Gender\"] = data[\"Gender\"].replace([\"Female\", \"Male\"], [0, 1])\n"
   ]
  },
  {
   "cell_type": "code",
   "execution_count": 21,
   "id": "3c6be2c4",
   "metadata": {},
   "outputs": [],
   "source": [
    "data[\"family_history_with_overweight\"] = data[\"family_history_with_overweight\"].replace([\"yes\", \"no\"], [0, 1])\n",
    "data[\"FAVC\"] = data[\"FAVC\"].replace([\"yes\", \"no\"], [0, 1])\n",
    "data[\"SMOKE\"] = data[\"SMOKE\"].replace([\"yes\", \"no\"], [0, 1])\n",
    "data[\"SCC\"] = data[\"SCC\"].replace([\"yes\", \"no\"], [0, 1])"
   ]
  },
  {
   "cell_type": "code",
   "execution_count": 22,
   "id": "9db09599",
   "metadata": {},
   "outputs": [],
   "source": [
    "data[\"CAEC\"]= data[\"CAEC\"].replace([\"no\", \"Sometimes\", \"Frequently\", \"Always\"], [0, 1, 2, 3])\n",
    "data[\"CALC\"] = data[\"CALC\"].replace([\"no\", \"Sometimes\", \"Frequently\", \"Always\"], [0, 1, 2, 3])"
   ]
  },
  {
   "cell_type": "code",
   "execution_count": 23,
   "id": "ce0462db",
   "metadata": {},
   "outputs": [],
   "source": [
    "data[\"MTRANS\"] = data[\"MTRANS\"].replace([\"Walking\", \"Bike\", \"Public_Transportation\", \"Motorbike\", \"Automobile\"],\n",
    "                                        [0, 1, 2, 3, 4])"
   ]
  },
  {
   "cell_type": "code",
   "execution_count": 24,
   "id": "51570237",
   "metadata": {},
   "outputs": [],
   "source": [
    "data[\"NObeyesdad\"] = data[\"NObeyesdad\"].replace([\"Insufficient_Weight\",\"Normal_Weight\",\"Overweight_Level_I\", \"Overweight_Level_II\",\n",
    "                                                \"Obesity_Type_I\", \"Obesity_Type_II\", \"Obesity_Type_III\"],\n",
    "                                               [0, 1, 2, 3, 4, 5, 6])\n"
   ]
  },
  {
   "cell_type": "markdown",
   "id": "e8a36b84",
   "metadata": {},
   "source": [
    "*All features in Numeric form*"
   ]
  },
  {
   "cell_type": "code",
   "execution_count": 25,
   "id": "163b2500",
   "metadata": {},
   "outputs": [
    {
     "data": {
      "text/plain": [
       "Gender                              int64\n",
       "Age                               float64\n",
       "Height                            float64\n",
       "Weight                            float64\n",
       "family_history_with_overweight      int64\n",
       "FAVC                                int64\n",
       "FCVC                              float64\n",
       "NCP                               float64\n",
       "CAEC                                int64\n",
       "SMOKE                               int64\n",
       "CH2O                              float64\n",
       "SCC                                 int64\n",
       "FAF                               float64\n",
       "TUE                               float64\n",
       "CALC                                int64\n",
       "MTRANS                              int64\n",
       "NObeyesdad                          int64\n",
       "dtype: object"
      ]
     },
     "execution_count": 25,
     "metadata": {},
     "output_type": "execute_result"
    }
   ],
   "source": [
    "data.dtypes"
   ]
  },
  {
   "cell_type": "code",
   "execution_count": 26,
   "id": "d49063bd",
   "metadata": {},
   "outputs": [],
   "source": [
    "data.to_csv(\"data/Obesity-Data-PreProcessed.csv\")\n",
    "#saving maham preprossesd file. Easy to share."
   ]
  },
  {
   "cell_type": "code",
   "execution_count": 27,
   "id": "56e38dcc",
   "metadata": {},
   "outputs": [
    {
     "data": {
      "text/html": [
       "<div>\n",
       "<style scoped>\n",
       "    .dataframe tbody tr th:only-of-type {\n",
       "        vertical-align: middle;\n",
       "    }\n",
       "\n",
       "    .dataframe tbody tr th {\n",
       "        vertical-align: top;\n",
       "    }\n",
       "\n",
       "    .dataframe thead th {\n",
       "        text-align: right;\n",
       "    }\n",
       "</style>\n",
       "<table border=\"1\" class=\"dataframe\">\n",
       "  <thead>\n",
       "    <tr style=\"text-align: right;\">\n",
       "      <th></th>\n",
       "      <th>Gender</th>\n",
       "      <th>Age</th>\n",
       "      <th>Height</th>\n",
       "      <th>Weight</th>\n",
       "      <th>family_history_with_overweight</th>\n",
       "      <th>FAVC</th>\n",
       "      <th>FCVC</th>\n",
       "      <th>NCP</th>\n",
       "      <th>CAEC</th>\n",
       "      <th>SMOKE</th>\n",
       "      <th>CH2O</th>\n",
       "      <th>SCC</th>\n",
       "      <th>FAF</th>\n",
       "      <th>TUE</th>\n",
       "      <th>CALC</th>\n",
       "      <th>MTRANS</th>\n",
       "      <th>NObeyesdad</th>\n",
       "    </tr>\n",
       "  </thead>\n",
       "  <tbody>\n",
       "    <tr>\n",
       "      <th>0</th>\n",
       "      <td>0</td>\n",
       "      <td>21.0</td>\n",
       "      <td>1.62</td>\n",
       "      <td>64.0</td>\n",
       "      <td>0</td>\n",
       "      <td>1</td>\n",
       "      <td>2.0</td>\n",
       "      <td>3.0</td>\n",
       "      <td>1</td>\n",
       "      <td>1</td>\n",
       "      <td>2.0</td>\n",
       "      <td>1</td>\n",
       "      <td>0.0</td>\n",
       "      <td>1.0</td>\n",
       "      <td>0</td>\n",
       "      <td>2</td>\n",
       "      <td>1</td>\n",
       "    </tr>\n",
       "    <tr>\n",
       "      <th>1</th>\n",
       "      <td>0</td>\n",
       "      <td>21.0</td>\n",
       "      <td>1.52</td>\n",
       "      <td>56.0</td>\n",
       "      <td>0</td>\n",
       "      <td>1</td>\n",
       "      <td>3.0</td>\n",
       "      <td>3.0</td>\n",
       "      <td>1</td>\n",
       "      <td>0</td>\n",
       "      <td>3.0</td>\n",
       "      <td>0</td>\n",
       "      <td>3.0</td>\n",
       "      <td>0.0</td>\n",
       "      <td>1</td>\n",
       "      <td>2</td>\n",
       "      <td>1</td>\n",
       "    </tr>\n",
       "    <tr>\n",
       "      <th>2</th>\n",
       "      <td>1</td>\n",
       "      <td>23.0</td>\n",
       "      <td>1.80</td>\n",
       "      <td>77.0</td>\n",
       "      <td>0</td>\n",
       "      <td>1</td>\n",
       "      <td>2.0</td>\n",
       "      <td>3.0</td>\n",
       "      <td>1</td>\n",
       "      <td>1</td>\n",
       "      <td>2.0</td>\n",
       "      <td>1</td>\n",
       "      <td>2.0</td>\n",
       "      <td>1.0</td>\n",
       "      <td>2</td>\n",
       "      <td>2</td>\n",
       "      <td>1</td>\n",
       "    </tr>\n",
       "    <tr>\n",
       "      <th>3</th>\n",
       "      <td>1</td>\n",
       "      <td>27.0</td>\n",
       "      <td>1.80</td>\n",
       "      <td>87.0</td>\n",
       "      <td>1</td>\n",
       "      <td>1</td>\n",
       "      <td>3.0</td>\n",
       "      <td>3.0</td>\n",
       "      <td>1</td>\n",
       "      <td>1</td>\n",
       "      <td>2.0</td>\n",
       "      <td>1</td>\n",
       "      <td>2.0</td>\n",
       "      <td>0.0</td>\n",
       "      <td>2</td>\n",
       "      <td>0</td>\n",
       "      <td>2</td>\n",
       "    </tr>\n",
       "    <tr>\n",
       "      <th>4</th>\n",
       "      <td>1</td>\n",
       "      <td>22.0</td>\n",
       "      <td>1.78</td>\n",
       "      <td>89.8</td>\n",
       "      <td>1</td>\n",
       "      <td>1</td>\n",
       "      <td>2.0</td>\n",
       "      <td>1.0</td>\n",
       "      <td>1</td>\n",
       "      <td>1</td>\n",
       "      <td>2.0</td>\n",
       "      <td>1</td>\n",
       "      <td>0.0</td>\n",
       "      <td>0.0</td>\n",
       "      <td>1</td>\n",
       "      <td>2</td>\n",
       "      <td>3</td>\n",
       "    </tr>\n",
       "  </tbody>\n",
       "</table>\n",
       "</div>"
      ],
      "text/plain": [
       "   Gender   Age  Height  Weight  family_history_with_overweight  FAVC  FCVC  \\\n",
       "0       0  21.0    1.62    64.0                               0     1   2.0   \n",
       "1       0  21.0    1.52    56.0                               0     1   3.0   \n",
       "2       1  23.0    1.80    77.0                               0     1   2.0   \n",
       "3       1  27.0    1.80    87.0                               1     1   3.0   \n",
       "4       1  22.0    1.78    89.8                               1     1   2.0   \n",
       "\n",
       "   NCP  CAEC  SMOKE  CH2O  SCC  FAF  TUE  CALC  MTRANS  NObeyesdad  \n",
       "0  3.0     1      1   2.0    1  0.0  1.0     0       2           1  \n",
       "1  3.0     1      0   3.0    0  3.0  0.0     1       2           1  \n",
       "2  3.0     1      1   2.0    1  2.0  1.0     2       2           1  \n",
       "3  3.0     1      1   2.0    1  2.0  0.0     2       0           2  \n",
       "4  1.0     1      1   2.0    1  0.0  0.0     1       2           3  "
      ]
     },
     "execution_count": 27,
     "metadata": {},
     "output_type": "execute_result"
    }
   ],
   "source": [
    "transformed_data = pd.read_csv(\"data/Obesity-Data-PreProcessed.csv\")\n",
    "transformed_data_1 = transformed_data.drop(transformed_data.columns[0] , axis =1)\n",
    "transformed_data_1.head()"
   ]
  },
  {
   "cell_type": "code",
   "execution_count": 28,
   "id": "9dd9c3a1",
   "metadata": {},
   "outputs": [],
   "source": [
    "# normalized_df = transformed_data_1/ transformed_data_1.mean()\n",
    "# normalized_df.head()\n",
    "# from sklearn.feature_selection import VarianceThreshold\n",
    "# vt = VarianceThreshold(threshold=(.8 * (1 - .8)))  \n",
    "# _ = vt.fit(normalized_df)\n",
    "# mask = vt.get_support()\n",
    "# transformed_data_1_final = transformed_data_1.loc[:, mask]\n",
    "# # transformed_data_1_final.shape, transformed_data_1.shape\n",
    "# transformed_data_1_final.head()\n",
    "# transformed_data"
   ]
  },
  {
   "cell_type": "markdown",
   "id": "b33c0862",
   "metadata": {},
   "source": [
    "## selected features after feature selection:\n",
    "* Gender\n",
    "* family_history_with_overweight\n",
    "* Frequent consumption of high caloric food (FAVC)\n",
    "* Consumption of food between meals (CAEC)\n",
    "* Physical activity frequency (FAF)\n",
    "* Time using technology devices (TUE)\n",
    "* Consumption of alcohol (CALC)\n",
    "* NObeyesdad"
   ]
  },
  {
   "cell_type": "code",
   "execution_count": 29,
   "id": "eab5a4ce",
   "metadata": {
    "scrolled": true
   },
   "outputs": [
    {
     "data": {
      "text/html": [
       "<div>\n",
       "<style scoped>\n",
       "    .dataframe tbody tr th:only-of-type {\n",
       "        vertical-align: middle;\n",
       "    }\n",
       "\n",
       "    .dataframe tbody tr th {\n",
       "        vertical-align: top;\n",
       "    }\n",
       "\n",
       "    .dataframe thead th {\n",
       "        text-align: right;\n",
       "    }\n",
       "</style>\n",
       "<table border=\"1\" class=\"dataframe\">\n",
       "  <thead>\n",
       "    <tr style=\"text-align: right;\">\n",
       "      <th></th>\n",
       "      <th>Gender</th>\n",
       "      <th>Age</th>\n",
       "      <th>Height</th>\n",
       "      <th>Weight</th>\n",
       "      <th>family_history_with_overweight</th>\n",
       "      <th>FAVC</th>\n",
       "      <th>FCVC</th>\n",
       "      <th>NCP</th>\n",
       "      <th>CAEC</th>\n",
       "      <th>SMOKE</th>\n",
       "      <th>CH2O</th>\n",
       "      <th>SCC</th>\n",
       "      <th>FAF</th>\n",
       "      <th>TUE</th>\n",
       "      <th>CALC</th>\n",
       "      <th>MTRANS</th>\n",
       "      <th>NObeyesdad</th>\n",
       "    </tr>\n",
       "  </thead>\n",
       "  <tbody>\n",
       "    <tr>\n",
       "      <th>0</th>\n",
       "      <td>0.0</td>\n",
       "      <td>0.148936</td>\n",
       "      <td>0.320755</td>\n",
       "      <td>0.186567</td>\n",
       "      <td>0.0</td>\n",
       "      <td>1.0</td>\n",
       "      <td>0.5</td>\n",
       "      <td>0.666667</td>\n",
       "      <td>0.333333</td>\n",
       "      <td>1.0</td>\n",
       "      <td>0.5</td>\n",
       "      <td>1.0</td>\n",
       "      <td>0.000000</td>\n",
       "      <td>0.5</td>\n",
       "      <td>0.000000</td>\n",
       "      <td>0.5</td>\n",
       "      <td>0.166667</td>\n",
       "    </tr>\n",
       "    <tr>\n",
       "      <th>1</th>\n",
       "      <td>0.0</td>\n",
       "      <td>0.148936</td>\n",
       "      <td>0.132075</td>\n",
       "      <td>0.126866</td>\n",
       "      <td>0.0</td>\n",
       "      <td>1.0</td>\n",
       "      <td>1.0</td>\n",
       "      <td>0.666667</td>\n",
       "      <td>0.333333</td>\n",
       "      <td>0.0</td>\n",
       "      <td>1.0</td>\n",
       "      <td>0.0</td>\n",
       "      <td>1.000000</td>\n",
       "      <td>0.0</td>\n",
       "      <td>0.333333</td>\n",
       "      <td>0.5</td>\n",
       "      <td>0.166667</td>\n",
       "    </tr>\n",
       "    <tr>\n",
       "      <th>2</th>\n",
       "      <td>1.0</td>\n",
       "      <td>0.191489</td>\n",
       "      <td>0.660377</td>\n",
       "      <td>0.283582</td>\n",
       "      <td>0.0</td>\n",
       "      <td>1.0</td>\n",
       "      <td>0.5</td>\n",
       "      <td>0.666667</td>\n",
       "      <td>0.333333</td>\n",
       "      <td>1.0</td>\n",
       "      <td>0.5</td>\n",
       "      <td>1.0</td>\n",
       "      <td>0.666667</td>\n",
       "      <td>0.5</td>\n",
       "      <td>0.666667</td>\n",
       "      <td>0.5</td>\n",
       "      <td>0.166667</td>\n",
       "    </tr>\n",
       "    <tr>\n",
       "      <th>3</th>\n",
       "      <td>1.0</td>\n",
       "      <td>0.276596</td>\n",
       "      <td>0.660377</td>\n",
       "      <td>0.358209</td>\n",
       "      <td>1.0</td>\n",
       "      <td>1.0</td>\n",
       "      <td>1.0</td>\n",
       "      <td>0.666667</td>\n",
       "      <td>0.333333</td>\n",
       "      <td>1.0</td>\n",
       "      <td>0.5</td>\n",
       "      <td>1.0</td>\n",
       "      <td>0.666667</td>\n",
       "      <td>0.0</td>\n",
       "      <td>0.666667</td>\n",
       "      <td>0.0</td>\n",
       "      <td>0.333333</td>\n",
       "    </tr>\n",
       "    <tr>\n",
       "      <th>4</th>\n",
       "      <td>1.0</td>\n",
       "      <td>0.170213</td>\n",
       "      <td>0.622642</td>\n",
       "      <td>0.379104</td>\n",
       "      <td>1.0</td>\n",
       "      <td>1.0</td>\n",
       "      <td>0.5</td>\n",
       "      <td>0.000000</td>\n",
       "      <td>0.333333</td>\n",
       "      <td>1.0</td>\n",
       "      <td>0.5</td>\n",
       "      <td>1.0</td>\n",
       "      <td>0.000000</td>\n",
       "      <td>0.0</td>\n",
       "      <td>0.333333</td>\n",
       "      <td>0.5</td>\n",
       "      <td>0.500000</td>\n",
       "    </tr>\n",
       "  </tbody>\n",
       "</table>\n",
       "</div>"
      ],
      "text/plain": [
       "   Gender       Age    Height    Weight  family_history_with_overweight  FAVC  \\\n",
       "0     0.0  0.148936  0.320755  0.186567                             0.0   1.0   \n",
       "1     0.0  0.148936  0.132075  0.126866                             0.0   1.0   \n",
       "2     1.0  0.191489  0.660377  0.283582                             0.0   1.0   \n",
       "3     1.0  0.276596  0.660377  0.358209                             1.0   1.0   \n",
       "4     1.0  0.170213  0.622642  0.379104                             1.0   1.0   \n",
       "\n",
       "   FCVC       NCP      CAEC  SMOKE  CH2O  SCC       FAF  TUE      CALC  \\\n",
       "0   0.5  0.666667  0.333333    1.0   0.5  1.0  0.000000  0.5  0.000000   \n",
       "1   1.0  0.666667  0.333333    0.0   1.0  0.0  1.000000  0.0  0.333333   \n",
       "2   0.5  0.666667  0.333333    1.0   0.5  1.0  0.666667  0.5  0.666667   \n",
       "3   1.0  0.666667  0.333333    1.0   0.5  1.0  0.666667  0.0  0.666667   \n",
       "4   0.5  0.000000  0.333333    1.0   0.5  1.0  0.000000  0.0  0.333333   \n",
       "\n",
       "   MTRANS  NObeyesdad  \n",
       "0     0.5    0.166667  \n",
       "1     0.5    0.166667  \n",
       "2     0.5    0.166667  \n",
       "3     0.0    0.333333  \n",
       "4     0.5    0.500000  "
      ]
     },
     "execution_count": 29,
     "metadata": {},
     "output_type": "execute_result"
    }
   ],
   "source": [
    "normalized_df=(transformed_data_1-transformed_data_1.min())/(transformed_data_1.max()-transformed_data_1.min())\n",
    "normalized_df.head()"
   ]
  },
  {
   "cell_type": "code",
   "execution_count": 30,
   "id": "1327ca6e",
   "metadata": {},
   "outputs": [
    {
     "data": {
      "text/plain": [
       "((2111, 7), (2111, 17))"
      ]
     },
     "execution_count": 30,
     "metadata": {},
     "output_type": "execute_result"
    }
   ],
   "source": [
    "from sklearn.feature_selection import VarianceThreshold\n",
    "# vt = VarianceThreshold(threshold=(.8 * (1 - .8)))\n",
    "vt = VarianceThreshold(threshold=0.08)\n",
    "_ = vt.fit(normalized_df)\n",
    "mask = vt.get_support()\n",
    "transformed_data_1_final = normalized_df.loc[:, mask]\n",
    "transformed_data_1_final.shape, normalized_df.shape"
   ]
  },
  {
   "cell_type": "code",
   "execution_count": 31,
   "id": "41fd0081",
   "metadata": {},
   "outputs": [
    {
     "data": {
      "text/html": [
       "<div>\n",
       "<style scoped>\n",
       "    .dataframe tbody tr th:only-of-type {\n",
       "        vertical-align: middle;\n",
       "    }\n",
       "\n",
       "    .dataframe tbody tr th {\n",
       "        vertical-align: top;\n",
       "    }\n",
       "\n",
       "    .dataframe thead th {\n",
       "        text-align: right;\n",
       "    }\n",
       "</style>\n",
       "<table border=\"1\" class=\"dataframe\">\n",
       "  <thead>\n",
       "    <tr style=\"text-align: right;\">\n",
       "      <th></th>\n",
       "      <th>Gender</th>\n",
       "      <th>family_history_with_overweight</th>\n",
       "      <th>FAVC</th>\n",
       "      <th>CH2O</th>\n",
       "      <th>FAF</th>\n",
       "      <th>TUE</th>\n",
       "      <th>NObeyesdad</th>\n",
       "    </tr>\n",
       "  </thead>\n",
       "  <tbody>\n",
       "    <tr>\n",
       "      <th>0</th>\n",
       "      <td>0.0</td>\n",
       "      <td>0.0</td>\n",
       "      <td>1.0</td>\n",
       "      <td>0.5</td>\n",
       "      <td>0.0</td>\n",
       "      <td>0.5</td>\n",
       "      <td>0.166667</td>\n",
       "    </tr>\n",
       "    <tr>\n",
       "      <th>1</th>\n",
       "      <td>0.0</td>\n",
       "      <td>0.0</td>\n",
       "      <td>1.0</td>\n",
       "      <td>1.0</td>\n",
       "      <td>1.0</td>\n",
       "      <td>0.0</td>\n",
       "      <td>0.166667</td>\n",
       "    </tr>\n",
       "  </tbody>\n",
       "</table>\n",
       "</div>"
      ],
      "text/plain": [
       "   Gender  family_history_with_overweight  FAVC  CH2O  FAF  TUE  NObeyesdad\n",
       "0     0.0                             0.0   1.0   0.5  0.0  0.5    0.166667\n",
       "1     0.0                             0.0   1.0   1.0  1.0  0.0    0.166667"
      ]
     },
     "execution_count": 31,
     "metadata": {},
     "output_type": "execute_result"
    }
   ],
   "source": [
    "transformed_data_1_final.head(2)"
   ]
  },
  {
   "cell_type": "code",
   "execution_count": 32,
   "id": "d3c9cb6c",
   "metadata": {},
   "outputs": [],
   "source": [
    "y = normalized_df[[\"Gender\", \"family_history_with_overweight\", \"FAVC\", \"SMOKE\", \"SCC\"]]\n",
    "x = normalized_df[[\"Age\", \"Weight\", \"Height\", \"CH2O\",\"FCVC\", \"NCP\" , \"CAEC\", \"FAF\", \"TUE\", \"CALC\", \"MTRANS\",\"NObeyesdad\"]]\n"
   ]
  },
  {
   "cell_type": "code",
   "execution_count": 33,
   "id": "7157b553",
   "metadata": {},
   "outputs": [
    {
     "data": {
      "text/plain": [
       "((2111, 12), (2111, 17))"
      ]
     },
     "execution_count": 33,
     "metadata": {},
     "output_type": "execute_result"
    }
   ],
   "source": [
    "from sklearn.feature_selection import VarianceThreshold\n",
    "vt = VarianceThreshold(threshold= 0.003)\n",
    "_ = vt.fit(x)\n",
    "mask = vt.get_support()\n",
    "transformed_data_1_final = x.loc[:, mask]\n",
    "x.shape, transformed_data_1.shape"
   ]
  },
  {
   "cell_type": "code",
   "execution_count": 34,
   "id": "d94680ff",
   "metadata": {},
   "outputs": [
    {
     "data": {
      "text/plain": [
       "((2111, 5), (2111, 17))"
      ]
     },
     "execution_count": 34,
     "metadata": {},
     "output_type": "execute_result"
    }
   ],
   "source": [
    "from sklearn.feature_selection import VarianceThreshold\n",
    "vt = VarianceThreshold(threshold=(.8 * (1 - .8)))\n",
    "_ = vt.fit(y)\n",
    "mask = vt.get_support()\n",
    "transformed_data_1_final = y.loc[:, mask]\n",
    "y.shape, transformed_data_1.shape"
   ]
  },
  {
   "cell_type": "code",
   "execution_count": 35,
   "id": "f16fe77f",
   "metadata": {},
   "outputs": [
    {
     "data": {
      "text/plain": [
       "(Age           0.018231\n",
       " Weight        0.038203\n",
       " Height        0.030992\n",
       " CH2O          0.093928\n",
       " FCVC          0.071269\n",
       " NCP           0.067260\n",
       " CAEC          0.024393\n",
       " FAF           0.080390\n",
       " TUE           0.092698\n",
       " CALC          0.029526\n",
       " MTRANS        0.052200\n",
       " NObeyesdad    0.109458\n",
       " dtype: float64,\n",
       " Gender                            0.250083\n",
       " family_history_with_overweight    0.149187\n",
       " FAVC                              0.102638\n",
       " SMOKE                             0.020418\n",
       " SCC                               0.043429\n",
       " dtype: float64)"
      ]
     },
     "execution_count": 35,
     "metadata": {},
     "output_type": "execute_result"
    }
   ],
   "source": [
    "x.var(), y.var()"
   ]
  },
  {
   "cell_type": "markdown",
   "id": "24da3eb9",
   "metadata": {},
   "source": [
    "### Feature selction with LinearSVC"
   ]
  },
  {
   "cell_type": "code",
   "execution_count": 41,
   "id": "c76dbe50",
   "metadata": {},
   "outputs": [
    {
     "name": "stdout",
     "output_type": "stream",
     "text": [
      "Index(['Gender', 'Age', 'Weight', 'FCVC', 'NCP', 'CH2O', 'FAF'], dtype='object')\n"
     ]
    },
    {
     "name": "stderr",
     "output_type": "stream",
     "text": [
      "C:\\Users\\smart\\Desktop\\maham_machine_learning_project1\\env\\lib\\site-packages\\sklearn\\base.py:443: UserWarning: X has feature names, but SelectFromModel was fitted without feature names\n",
      "  warnings.warn(\n"
     ]
    }
   ],
   "source": [
    "X = transformed_data_1.drop(\"NObeyesdad\", axis = 1)\n",
    "y = transformed_data_1[\"NObeyesdad\"]\n",
    "\n",
    "from sklearn.svm import LinearSVC\n",
    "from sklearn.feature_selection import SelectFromModel\n",
    "lsvc = LinearSVC(C=0.0015, penalty=\"l1\", dual=False).fit(X, y)\n",
    "model = SelectFromModel(lsvc, prefit=True)\n",
    "X_new = model.transform(X)\n",
    "X_new.shape\n",
    "#print(model.get_support()) \n",
    "print(X.columns[model.get_support()])\n",
    "#selected_feature_names = np.asarray(lsvc.get_feature_names())[list(set(np.where(svc.coef_ != 0)[1]))]\n",
    "#select=np.where(lsvc.coef_ != 0)[-1]\n",
    "# SMOKE, SCC\n",
    "X_new.shape\n",
    "import warnings\n",
    "from sklearn.exceptions import ConvergenceWarning\n",
    "warnings.filterwarnings('ignore', category=ConvergenceWarning)"
   ]
  },
  {
   "cell_type": "markdown",
   "id": "54e727b6",
   "metadata": {},
   "source": [
    " ## Tree-based feature selection"
   ]
  },
  {
   "cell_type": "code",
   "execution_count": 39,
   "id": "9196aaf2",
   "metadata": {},
   "outputs": [
    {
     "name": "stdout",
     "output_type": "stream",
     "text": [
      "Index(['Gender', 'Age', 'Height', 'Weight', 'FCVC'], dtype='object')\n"
     ]
    },
    {
     "name": "stderr",
     "output_type": "stream",
     "text": [
      "C:\\Users\\smart\\Desktop\\maham_machine_learning_project1\\env\\lib\\site-packages\\sklearn\\base.py:443: UserWarning: X has feature names, but SelectFromModel was fitted without feature names\n",
      "  warnings.warn(\n"
     ]
    },
    {
     "data": {
      "text/plain": [
       "(2111, 5)"
      ]
     },
     "execution_count": 39,
     "metadata": {},
     "output_type": "execute_result"
    }
   ],
   "source": [
    "from sklearn.ensemble import ExtraTreesClassifier\n",
    "from sklearn.feature_selection import SelectFromModel\n",
    "X.shape\n",
    "clf = ExtraTreesClassifier(n_estimators=50)\n",
    "clf = clf.fit(X, y)\n",
    "clf.feature_importances_  \n",
    "model = SelectFromModel(clf, prefit=True)\n",
    "X_new = model.transform(X)            \n",
    "print(X.columns[model.get_support()])\n",
    "X_new.shape   \n"
   ]
  },
  {
   "cell_type": "markdown",
   "id": "76825f22",
   "metadata": {},
   "source": [
    "In the next step I will run:\n",
    "* multiple linear regression for selected features.\n",
    "* multiple linear regression for all features.\n",
    "* R2 value for selected and all features\n",
    "* coefficient of the 4 variable "
   ]
  },
  {
   "cell_type": "markdown",
   "id": "f3f0e147",
   "metadata": {},
   "source": [
    "## Multiple Linear Regression\n",
    "\n",
    "1. Taking all the 16 labels and 1 target."
   ]
  },
  {
   "cell_type": "code",
   "execution_count": 40,
   "id": "5a2efa21",
   "metadata": {},
   "outputs": [
    {
     "name": "stdout",
     "output_type": "stream",
     "text": [
      "mean_squared_error :  0.22643941987646335\n",
      "mean_absolute_error :  0.3567887692800068\n",
      "r2_score :  0.3567887692800068\n"
     ]
    },
    {
     "data": {
      "text/plain": [
       "0.9437950441145229"
      ]
     },
     "execution_count": 40,
     "metadata": {},
     "output_type": "execute_result"
    }
   ],
   "source": [
    "import matplotlib.pyplot as plt\n",
    "import seaborn as sns\n",
    "from sklearn.model_selection import train_test_split\n",
    "from sklearn.linear_model import LinearRegression\n",
    "from sklearn.metrics import mean_squared_error, mean_absolute_error, r2_score\n",
    "\n",
    "np.random.seed(2)\n",
    "\n",
    "X = transformed_data_1.drop(\"NObeyesdad\", axis = 1)\n",
    "y = transformed_data_1[\"NObeyesdad\"]\n",
    "\n",
    "X_train, X_test, y_train, y_test = train_test_split(X, y, test_size= 0.2)\n",
    "model = LinearRegression()\n",
    "model.fit(X_train, y_train)\n",
    "y_preds = model.predict(X_test)\n",
    "model.score(X_test, y_test)\n",
    "\n",
    "print(\n",
    "  'mean_squared_error : ', mean_squared_error(y_test, y_preds))\n",
    "print(\n",
    "  'mean_absolute_error : ', mean_absolute_error(y_test, y_preds))\n",
    "print(\n",
    "  'r2_score : ', mean_absolute_error(y_test, y_preds))\n",
    "score = model.score(X_test, y_test)#Return the coefficient of determination of the prediction?)\n",
    "score"
   ]
  },
  {
   "cell_type": "markdown",
   "id": "7a2f56d2",
   "metadata": {},
   "source": [
    "### 2. Doing Linear Regression only on 4 features selected with Tree-based feature selection and LinearSVC."
   ]
  },
  {
   "cell_type": "code",
   "execution_count": 41,
   "id": "6b17f64d",
   "metadata": {},
   "outputs": [
    {
     "name": "stdout",
     "output_type": "stream",
     "text": [
      "mean_squared_error :  0.5373488486322676\n",
      "mean_absolute_error :  0.5872337454496004\n",
      "r2_score :  0.5872337454496004\n"
     ]
    },
    {
     "data": {
      "text/plain": [
       "0.8666236278605314"
      ]
     },
     "execution_count": 41,
     "metadata": {},
     "output_type": "execute_result"
    }
   ],
   "source": [
    "np.random.seed(2)\n",
    "\n",
    "X = transformed_data_1[['Gender', 'Age', 'Weight', 'FCVC']]\n",
    "y = transformed_data_1[\"NObeyesdad\"]\n",
    "\n",
    "X_train, X_test, y_train, y_test = train_test_split(X, y, test_size= 0.2)\n",
    "model = LinearRegression()\n",
    "model.fit(X_train, y_train)\n",
    "y_preds = model.predict(X_test)\n",
    "\n",
    "print(\n",
    "  'mean_squared_error : ', mean_squared_error(y_test, y_preds))\n",
    "print(\n",
    "  'mean_absolute_error : ', mean_absolute_error(y_test, y_preds))\n",
    "print(\n",
    "  'r2_score : ', mean_absolute_error(y_test, y_preds))\n",
    "score = model.score(X_test, y_test)\n",
    "score"
   ]
  },
  {
   "cell_type": "markdown",
   "id": "8982dd16",
   "metadata": {},
   "source": [
    "## Training Random Forset Classifier on all features"
   ]
  },
  {
   "cell_type": "code",
   "execution_count": 42,
   "id": "2831312a",
   "metadata": {},
   "outputs": [
    {
     "data": {
      "text/plain": [
       "0.9432624113475178"
      ]
     },
     "execution_count": 42,
     "metadata": {},
     "output_type": "execute_result"
    }
   ],
   "source": [
    "from sklearn.ensemble import RandomForestClassifier\n",
    "from sklearn.model_selection import train_test_split\n",
    "\n",
    "np.random.seed(2)\n",
    "\n",
    "X = transformed_data_1.drop(\"NObeyesdad\", axis = 1)\n",
    "y = transformed_data_1[\"NObeyesdad\"]\n",
    "\n",
    "X_train, X_test, y_train, y_test = train_test_split(X, y, test_size= 0.2)\n",
    "model = RandomForestClassifier()\n",
    "model.fit(X_train, y_train)\n",
    "y_preds = model.predict(X_test)\n",
    "model.score(X_test, y_test)\n"
   ]
  },
  {
   "cell_type": "markdown",
   "id": "0d5b55eb",
   "metadata": {},
   "source": [
    "## Random Forest Classifier on selcted features"
   ]
  },
  {
   "cell_type": "code",
   "execution_count": 43,
   "id": "74fd650c",
   "metadata": {},
   "outputs": [
    {
     "data": {
      "text/plain": [
       "0.8723404255319149"
      ]
     },
     "execution_count": 43,
     "metadata": {},
     "output_type": "execute_result"
    }
   ],
   "source": [
    "np.random.seed(2)\n",
    "\n",
    "X = transformed_data_1[['Gender', 'Age', 'Weight', 'FCVC']]\n",
    "y = transformed_data_1[\"NObeyesdad\"]\n",
    "\n",
    "X_train, X_test, y_train, y_test = train_test_split(X, y, test_size= 0.2)\n",
    "model = RandomForestClassifier()\n",
    "model.fit(X_train, y_train)\n",
    "y_preds = model.predict(X_test)\n",
    "score = model.score(X_test, y_test)\n",
    "score"
   ]
  },
  {
   "cell_type": "markdown",
   "id": "ab4befbf",
   "metadata": {},
   "source": [
    "## KNeighborsClassifier on selected features"
   ]
  },
  {
   "cell_type": "code",
   "execution_count": 44,
   "id": "e9262470",
   "metadata": {},
   "outputs": [
    {
     "name": "stdout",
     "output_type": "stream",
     "text": [
      "Accuracy: 0.85\n",
      "Confusion Matrix: \n",
      " [[55  4  0  0  0  0  0]\n",
      " [ 9 31  9  3  0  0  0]\n",
      " [ 1  1 47  2  0  0  0]\n",
      " [ 1  2  5 45 11  2  0]\n",
      " [ 0  0  1  6 52  4  1]\n",
      " [ 0  0  0  1  0 67  1]\n",
      " [ 0  0  0  0  0  0 62]]\n"
     ]
    }
   ],
   "source": [
    "from sklearn.neighbors import KNeighborsClassifier\n",
    "from sklearn.metrics import accuracy_score\n",
    "from sklearn.metrics import confusion_matrix\n",
    "knn = KNeighborsClassifier(n_neighbors=3)\n",
    "\n",
    "X = transformed_data_1[['Gender', 'Age', 'Weight', 'FCVC']]\n",
    "y = transformed_data_1[\"NObeyesdad\"]\n",
    "\n",
    "X_train, X_test, y_train, y_test = train_test_split(X, y, test_size= 0.2)\n",
    "\n",
    "knn.fit(X_train, y_train)\n",
    "\n",
    "y_pred = knn.predict(X_test)\n",
    "print('Accuracy: %.2f' % accuracy_score(y_test, y_pred))\n",
    "\n",
    "print('Confusion Matrix: \\n', confusion_matrix(y_test, y_pred))\n"
   ]
  },
  {
   "cell_type": "markdown",
   "id": "2d88db9c",
   "metadata": {},
   "source": [
    "#### In following step I will perform 10-fold cross-validation for each odd value of 'k' from 1 to 49, then select the 'k' that had the highest cross-validation accuracy."
   ]
  },
  {
   "cell_type": "code",
   "execution_count": 45,
   "id": "b251cf78",
   "metadata": {},
   "outputs": [
    {
     "name": "stdout",
     "output_type": "stream",
     "text": [
      "The optimal number of neighbors is 1\n"
     ]
    }
   ],
   "source": [
    "from sklearn.model_selection import cross_val_score\n",
    "\n",
    "# Creating odd list K for KNN\n",
    "neighbors = list(range(1,50,2))\n",
    "\n",
    "# Empty list to hold cv scores\n",
    "cv_scores = []\n",
    "\n",
    "# Perform 10-fold cross-validation\n",
    "for k in neighbors:\n",
    "    knn = KNeighborsClassifier(n_neighbors=k)\n",
    "    scores = cross_val_score(knn, X_train, y_train, cv=10, scoring='accuracy')\n",
    "    cv_scores.append(scores.mean())\n",
    "\n",
    "# Determining the best K\n",
    "optimal_k = neighbors[cv_scores.index(max(cv_scores))]\n",
    "print(f\"The optimal number of neighbors is {optimal_k}\")"
   ]
  },
  {
   "cell_type": "code",
   "execution_count": 46,
   "id": "aee0ae1b",
   "metadata": {},
   "outputs": [
    {
     "name": "stdout",
     "output_type": "stream",
     "text": [
      "Accuracy: 0.88\n",
      "Confusion Matrix: \n",
      " [[49  2  1  0  0  0  0]\n",
      " [ 7 35  6  1  0  0  0]\n",
      " [ 0  6 46  2  0  0  0]\n",
      " [ 0  2  6 44  6  1  0]\n",
      " [ 0  0  0  5 77  1  0]\n",
      " [ 0  0  0  0  5 58  1]\n",
      " [ 0  0  0  0  0  0 62]]\n"
     ]
    }
   ],
   "source": [
    "# Accuarcy score with optimal n_negibours\n",
    "\n",
    "from sklearn.neighbors import KNeighborsClassifier\n",
    "from sklearn.metrics import accuracy_score\n",
    "from sklearn.metrics import confusion_matrix\n",
    "knn = KNeighborsClassifier(n_neighbors=1)\n",
    "\n",
    "X = transformed_data_1[['Gender', 'Age', 'Weight', 'FCVC']]\n",
    "y = transformed_data_1[\"NObeyesdad\"]\n",
    "\n",
    "X_train, X_test, y_train, y_test = train_test_split(X, y, test_size= 0.2)\n",
    "\n",
    "knn.fit(X_train, y_train)\n",
    "\n",
    "y_pred = knn.predict(X_test)\n",
    "print('Accuracy: %.2f' % accuracy_score(y_test, y_pred))\n",
    "\n",
    "print('Confusion Matrix: \\n', confusion_matrix(y_test, y_pred))"
   ]
  },
  {
   "cell_type": "markdown",
   "id": "dbcb817f",
   "metadata": {},
   "source": [
    "## KNeighborsClassifier on all fetaures"
   ]
  },
  {
   "cell_type": "code",
   "execution_count": 47,
   "id": "71691217",
   "metadata": {},
   "outputs": [
    {
     "name": "stdout",
     "output_type": "stream",
     "text": [
      "Accuracy: 0.90\n",
      "Confusion Matrix: \n",
      " [[66  0  0  0  0  0  0]\n",
      " [ 8 22  5  4  0  0  0]\n",
      " [ 0  3 57  5  2  0  0]\n",
      " [ 0  0  6 50  3  0  0]\n",
      " [ 0  0  0  0 67  2  2]\n",
      " [ 0  0  0  0  1 55  1]\n",
      " [ 0  0  0  0  0  1 63]]\n"
     ]
    }
   ],
   "source": [
    "\n",
    "from sklearn.neighbors import KNeighborsClassifier\n",
    "from sklearn.metrics import accuracy_score\n",
    "from sklearn.metrics import confusion_matrix\n",
    "knn = KNeighborsClassifier(n_neighbors=3)\n",
    "\n",
    "X = transformed_data_1.drop(\"NObeyesdad\", axis = 1)\n",
    "y = transformed_data_1[\"NObeyesdad\"]\n",
    "\n",
    "X_train, X_test, y_train, y_test = train_test_split(X, y, test_size= 0.2)\n",
    "\n",
    "knn.fit(X_train, y_train)\n",
    "\n",
    "y_pred = knn.predict(X_test)\n",
    "print('Accuracy: %.2f' % accuracy_score(y_test, y_pred))\n",
    "\n",
    "print('Confusion Matrix: \\n', confusion_matrix(y_test, y_pred))"
   ]
  },
  {
   "cell_type": "code",
   "execution_count": 48,
   "id": "cba13400",
   "metadata": {},
   "outputs": [
    {
     "name": "stdout",
     "output_type": "stream",
     "text": [
      "Accuracy: 0.89\n",
      "Confusion Matrix: \n",
      " [[48  1  1  0  0  0  0]\n",
      " [ 7 32 11  6  1  0  0]\n",
      " [ 0  2 53  3  1  0  0]\n",
      " [ 0  1  1 58  2  1  0]\n",
      " [ 0  0  0  3 67  1  2]\n",
      " [ 0  0  0  0  2 58  1]\n",
      " [ 0  0  0  0  0  0 60]]\n"
     ]
    }
   ],
   "source": [
    "np.random.seed(3)\n",
    "\n",
    "knn = KNeighborsClassifier(n_neighbors=1)\n",
    "\n",
    "X = transformed_data_1.drop(\"NObeyesdad\", axis = 1)\n",
    "y = transformed_data_1[\"NObeyesdad\"]\n",
    "\n",
    "X_train, X_test, y_train, y_test = train_test_split(X, y, test_size= 0.2)\n",
    "\n",
    "knn.fit(X_train, y_train)\n",
    "\n",
    "y_pred = knn.predict(X_test)\n",
    "print('Accuracy: %.2f' % accuracy_score(y_test, y_pred))\n",
    "\n",
    "print('Confusion Matrix: \\n', confusion_matrix(y_test, y_pred))"
   ]
  },
  {
   "cell_type": "code",
   "execution_count": 49,
   "id": "b99f713f",
   "metadata": {},
   "outputs": [
    {
     "name": "stdout",
     "output_type": "stream",
     "text": [
      "The optimal number of neighbors is 1\n"
     ]
    }
   ],
   "source": [
    "# even for all features optimal number is 1\n",
    "from sklearn.model_selection import cross_val_score\n",
    "\n",
    "# Creating odd list K for KNN\n",
    "neighbors = list(range(1,50,2))\n",
    "\n",
    "# Empty list to hold cv scores\n",
    "cv_scores = []\n",
    "\n",
    "# Perform 10-fold cross-validation\n",
    "for k in neighbors:\n",
    "    knn = KNeighborsClassifier(n_neighbors=k)\n",
    "    scores = cross_val_score(knn, X_train, y_train, cv=10, scoring='accuracy')\n",
    "    cv_scores.append(scores.mean())\n",
    "\n",
    "# Determining the best K\n",
    "optimal_k = neighbors[cv_scores.index(max(cv_scores))]\n",
    "print(f\"The optimal number of neighbors is {optimal_k}\")"
   ]
  },
  {
   "cell_type": "markdown",
   "id": "23b5ded7",
   "metadata": {},
   "source": [
    "## SVM on all features"
   ]
  },
  {
   "cell_type": "code",
   "execution_count": 50,
   "id": "84977d4d",
   "metadata": {},
   "outputs": [
    {
     "name": "stdout",
     "output_type": "stream",
     "text": [
      "Accuracy: 0.87\n",
      "Confusion Matrix: \n",
      " [[61  0  0  0  0  0  0]\n",
      " [ 7 31  7  0  0  0  0]\n",
      " [ 0  4 49  7  1  0  0]\n",
      " [ 0  0  7 45  8  0  0]\n",
      " [ 0  0  1  7 67  4  0]\n",
      " [ 0  0  0  0  1 53  0]\n",
      " [ 0  0  0  0  0  0 63]]\n"
     ]
    }
   ],
   "source": [
    "from sklearn import svm\n",
    "from sklearn.metrics import accuracy_score\n",
    "from sklearn.metrics import confusion_matrix\n",
    "X = transformed_data_1.drop(\"NObeyesdad\", axis = 1)\n",
    "y = transformed_data_1[\"NObeyesdad\"]\n",
    "\n",
    "X_train, X_test, y_train, y_test = train_test_split(X, y, test_size=0.2, random_state=1)\n",
    "\n",
    "clf = svm.SVC(kernel='linear')\n",
    "\n",
    "clf.fit(X_train, y_train)\n",
    "y_pred = clf.predict(X_test)\n",
    "print('Accuracy: %.2f' % accuracy_score(y_test, y_pred))\n",
    "\n",
    "print('Confusion Matrix: \\n', confusion_matrix(y_test, y_pred))"
   ]
  },
  {
   "cell_type": "markdown",
   "id": "e0099d64",
   "metadata": {},
   "source": [
    "## SVM on selected features"
   ]
  },
  {
   "cell_type": "code",
   "execution_count": 51,
   "id": "d7fdc42c",
   "metadata": {},
   "outputs": [
    {
     "name": "stdout",
     "output_type": "stream",
     "text": [
      "Accuracy: 0.73\n",
      "Confusion Matrix: \n",
      " [[51 10  0  0  0  0  0]\n",
      " [ 9 26  6  4  0  0  0]\n",
      " [ 0 10 28 20  3  0  0]\n",
      " [ 0  1  9 32 18  0  0]\n",
      " [ 0  0  1 10 56 12  0]\n",
      " [ 0  0  0  0  3 51  0]\n",
      " [ 0  0  0  0  0  0 63]]\n"
     ]
    }
   ],
   "source": [
    "from sklearn import svm\n",
    "from sklearn.metrics import accuracy_score\n",
    "from sklearn.metrics import confusion_matrix\n",
    "X = transformed_data_1[['Gender', 'Age', 'Weight', 'FCVC']]\n",
    "y = transformed_data_1[\"NObeyesdad\"]\n",
    "\n",
    "X_train, X_test, y_train, y_test = train_test_split(X, y, test_size=0.2, random_state=1)\n",
    "\n",
    "clf = svm.SVC(kernel='linear')\n",
    "\n",
    "clf.fit(X_train, y_train)\n",
    "y_pred = clf.predict(X_test)\n",
    "print('Accuracy: %.2f' % accuracy_score(y_test, y_pred))\n",
    "\n",
    "print('Confusion Matrix: \\n', confusion_matrix(y_test, y_pred))"
   ]
  },
  {
   "cell_type": "code",
   "execution_count": 53,
   "id": "6ca597fd",
   "metadata": {},
   "outputs": [
    {
     "name": "stdout",
     "output_type": "stream",
     "text": [
      "The optimal number of neighbors is 1\n"
     ]
    },
    {
     "data": {
      "image/png": "[encoded data removed]",
      "text/plain": [
       "<Figure size 1000x600 with 1 Axes>"
      ]
     },
     "metadata": {},
     "output_type": "display_data"
    }
   ],
   "source": [
    "from sklearn.model_selection import cross_val_score\n",
    "import matplotlib.pyplot as plt\n",
    "\n",
    "# Creating odd list K for KNN\n",
    "neighbors = list(range(1, 50, 2))\n",
    "\n",
    "# Empty list to hold cv scores\n",
    "cv_scores = []\n",
    "\n",
    "# Perform 10-fold cross-validation\n",
    "for k in neighbors:\n",
    "    knn = KNeighborsClassifier(n_neighbors=k)\n",
    "    scores = cross_val_score(knn, X_train, y_train, cv=10, scoring='accuracy')\n",
    "    cv_scores.append(scores.mean())\n",
    "\n",
    "# Determining the best K\n",
    "optimal_k = neighbors[cv_scores.index(max(cv_scores))]\n",
    "print(f\"The optimal number of neighbors is {optimal_k}\")\n",
    "\n",
    "# Plot accuracy vs. number of neighbors\n",
    "plt.figure(figsize=(10,6))\n",
    "plt.plot(neighbors, cv_scores, marker='o', linestyle='-', color='blue')\n",
    "plt.title('Accuracy vs. Number of Neighbors')\n",
    "plt.xlabel('Number of Neighbors')\n",
    "plt.ylabel('Accuracy')\n",
    "plt.grid()\n",
    "plt.show()\n"
   ]
  },
  {
   "cell_type": "code",
   "execution_count": 56,
   "id": "fa7a3367",
   "metadata": {},
   "outputs": [
    {
     "data": {
      "text/html": [
       "<table border=\"1\" class=\"dataframe\" id=\"table\">\n",
       "  <thead>\n",
       "    <tr style=\"text-align: right;\">\n",
       "      <th>Models</th>\n",
       "      <th>Accuracy for selected features</th>\n",
       "      <th>Accuracy for all features</th>\n",
       "    </tr>\n",
       "  </thead>\n",
       "  <tbody>\n",
       "    <tr>\n",
       "      <td>KNN</td>\n",
       "      <td>0.88</td>\n",
       "      <td>0.89</td>\n",
       "    </tr>\n",
       "    <tr>\n",
       "      <td>SVM</td>\n",
       "      <td>0.73</td>\n",
       "      <td>0.87</td>\n",
       "    </tr>\n",
       "    <tr>\n",
       "      <td>Random Forest</td>\n",
       "      <td>0.87</td>\n",
       "      <td>0.94</td>\n",
       "    </tr>\n",
       "    <tr>\n",
       "      <td>Linear Regression</td>\n",
       "      <td>0.86</td>\n",
       "      <td>0.94</td>\n",
       "    </tr>\n",
       "  </tbody>\n",
       "</table>"
      ],
      "text/plain": [
       "<IPython.core.display.HTML object>"
      ]
     },
     "metadata": {},
     "output_type": "display_data"
    }
   ],
   "source": [
    "import pandas as pd\n",
    "from IPython.display import display, HTML\n",
    "# List of models\n",
    "models = ['KNN', 'SVM', 'Random Forest', 'Linear Regression']\n",
    "\n",
    "# Accuracies for selected features (replace with your actual values)\n",
    "accuracy_selected = [0.88, 0.73, 0.87, 0.86]\n",
    "\n",
    "# Accuracies for all features (replace with your actual values)\n",
    "accuracy_all = [0.89, 0.87, 0.94, 0.94]\n",
    "\n",
    "# Create a DataFrame\n",
    "df = pd.DataFrame(list(zip(models, accuracy_selected, accuracy_all)), \n",
    "               columns =['Models', 'Accuracy for selected features', 'Accuracy for all features'])\n",
    "\n",
    "# Display DataFrame as a table with lines\n",
    "display(HTML(df.to_html(index=False, table_id='table', border=1)))"
   ]
  },
  {
   "cell_type": "code",
   "execution_count": 57,
   "id": "7842d2fc",
   "metadata": {},
   "outputs": [
    {
     "name": "stdout",
     "output_type": "stream",
     "text": [
      "      Actual  Predicted\n",
      "544        0          1\n",
      "1987       6          6\n",
      "420        0          0\n",
      "527        0          0\n",
      "196        1          2\n",
      "...      ...        ...\n",
      "893        2          2\n",
      "188        4          5\n",
      "1814       6          6\n",
      "869        2          2\n",
      "1428       4          4\n",
      "\n",
      "[212 rows x 2 columns]\n"
     ]
    }
   ],
   "source": [
    "from sklearn.model_selection import train_test_split\n",
    "from sklearn.neighbors import KNeighborsClassifier\n",
    "import pandas as pd\n",
    "\n",
    "# Assuming X is your feature set and y is your target variable\n",
    "X_train, X_test, y_train, y_test = train_test_split(X, y, test_size=0.1, random_state=42)\n",
    "\n",
    "# Create KNN model\n",
    "knn = KNeighborsClassifier(n_neighbors=optimal_k)  # Use your optimal_k value\n",
    "\n",
    "# Fit the model to the training data\n",
    "knn.fit(X_train, y_train)\n",
    "\n",
    "# Predict the labels of the test set\n",
    "y_pred = knn.predict(X_test)\n",
    "\n",
    "# Create a DataFrame for comparison\n",
    "df = pd.DataFrame({'Actual': y_test, 'Predicted': y_pred})\n",
    "\n",
    "# Display the DataFrame\n",
    "print(df)\n"
   ]
  },
  {
   "cell_type": "code",
   "execution_count": 58,
   "id": "4e20ea4b",
   "metadata": {},
   "outputs": [],
   "source": [
    "# Export DataFrame to CSV\n",
    "df.to_csv('results.csv', index=False)"
   ]
  },
  {
   "cell_type": "code",
   "execution_count": 59,
   "id": "f450f494",
   "metadata": {},
   "outputs": [
    {
     "name": "stdout",
     "output_type": "stream",
     "text": [
      "Accuracy:  0.8962264150943396\n"
     ]
    }
   ],
   "source": [
    "from sklearn.metrics import accuracy_score\n",
    "\n",
    "# Calculate accuracy\n",
    "accuracy = accuracy_score(y_test, y_pred)\n",
    "\n",
    "print(\"Accuracy: \", accuracy)"
   ]
  },
  {
   "cell_type": "code",
   "execution_count": null,
   "id": "db00ab46",
   "metadata": {},
   "outputs": [],
   "source": []
  }
 ],
 "metadata": {
  "kernelspec": {
   "display_name": "Python 3 (ipykernel)",
   "language": "python",
   "name": "python3"
  },
  "language_info": {
   "codemirror_mode": {
    "name": "ipython",
    "version": 3
   },
   "file_extension": ".py",
   "mimetype": "text/x-python",
   "name": "python",
   "nbconvert_exporter": "python",
   "pygments_lexer": "ipython3",
   "version": "3.10.8"
  }
 },
 "nbformat": 4,
 "nbformat_minor": 5
}
